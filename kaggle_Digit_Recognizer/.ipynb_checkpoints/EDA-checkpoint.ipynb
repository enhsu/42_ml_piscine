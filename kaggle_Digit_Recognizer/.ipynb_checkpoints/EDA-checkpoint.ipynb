{
 "cells": [
  {
   "cell_type": "code",
   "execution_count": 1,
   "metadata": {},
   "outputs": [
    {
     "name": "stderr",
     "output_type": "stream",
     "text": [
      "Using TensorFlow backend.\n"
     ]
    }
   ],
   "source": [
    "# reference: https://www.kaggle.com/bulentsiyah/mnist-for-beginners-tensorflow-dnn-cnn-keras\n",
    "import numpy as np\n",
    "import tensorflow as tf\n",
    "import pandas as pd\n",
    "import seaborn as sns\n",
    "import matplotlib.pyplot as plt\n",
    "\n",
    "# for tensorboard\n",
    "import os\n",
    "from tensorflow.python.eager import context\n",
    "\n",
    "from time import time\n",
    "\n",
    "from keras.utils.np_utils import to_categorical # convert to one-hot-encoding\n",
    "from sklearn.model_selection import train_test_split\n",
    "\n",
    "import keras\n",
    "from keras.models import Sequential\n",
    "from keras.layers import Dense, Dropout, Flatten, Conv2D, MaxPool2D\n",
    "from keras.callbacks import ReduceLROnPlateau, TensorBoard\n",
    "from keras.preprocessing.image import ImageDataGenerator\n",
    "from keras.models import model_from_json\n",
    "from keras import backend as K\n",
    "\n",
    "train_path = './data/train.csv'\n",
    "test_path = './data/test.csv'\n",
    "\n",
    "# reference - custom model example\n",
    "# https://github.com/tensorflow/tensorflow/blob/master/tensorflow/examples/learn/iris_custom_model.py\n",
    "\n",
    "# https://gist.github.com/damienpontifex/1f03b966d36049b678efdddb54cef4eb"
   ]
  },
  {
   "cell_type": "code",
   "execution_count": 8,
   "metadata": {},
   "outputs": [],
   "source": [
    "class get_data:\n",
    "    def __init__(self, path, is_train=True):\n",
    "        self.is_train = is_train\n",
    "        \n",
    "        # load csv file\n",
    "        data = pd.read_csv(path)\n",
    "        # split data to feature & label\n",
    "        if is_train:\n",
    "            self.feature = data.drop('label', axis=1)\n",
    "            self.label = data['label']\n",
    "#         else:\n",
    "#             self.feature = data\n",
    "#         # free space\n",
    "#         del data\n",
    "        \n",
    "#         self.feature = self.deal_feature()\n",
    "#         if is_train:\n",
    "#             self.label = self.deal_label()\n",
    "#             self.ts_f, self.ts_l, self.vs_f, self.vs_l = self.split_t_v()\n",
    "            \n",
    "    \n",
    "    # EDA\n",
    "    def describe_plot(self):\n",
    "        sns.countplot(self.label)\n",
    "    def describe_num(self):\n",
    "        res = self.label.value_counts()\n",
    "        print(res)\n",
    "    \n",
    "    # reference: How to Check If Any Value is NaN in a Pandas DataFrame\n",
    "    # https://chartio.com/resources/tutorials/how-to-check-if-any-value-is-nan-in-a-pandas-dataframe/\n",
    "    def check_missing_val(self, data_df):\n",
    "        res = data_df.isnull().values.any()\n",
    "        print(res)\n",
    "        \n",
    "    def deal_feature(self):\n",
    "        # normolize data\n",
    "#         feature = self.feature / 255.0\n",
    "        feature = self.feature.values.reshape(-1, 28, 28, 1)\n",
    "#         print(feature)\n",
    "        return feature\n",
    "    \n",
    "    def show_digit(self):\n",
    "        plt.imshow(self.feature[0][:,:,0])\n",
    "        \n",
    "    def deal_label(self):\n",
    "        label = to_categorical(self.label, num_classes = 10)\n",
    "#         1, [0, 1, 0, 0, ... ]\n",
    "#         print(label)\n",
    "        return label\n",
    "    \n",
    "    def split_t_v(self):\n",
    "        # trainingSet_feature\n",
    "        # trainingSet_label\n",
    "        # validationSet_feature\n",
    "        # validationSet_label\n",
    "        \n",
    "        ts_f, ts_l, vs_f, vs_l = \\\n",
    "        train_test_split(\n",
    "            self.feature,\n",
    "            self.label,\n",
    "            test_size=0.1,\n",
    "            random_state=2\n",
    "        )\n",
    "        return ts_f, ts_l, vs_f, vs_l"
   ]
  },
  {
   "cell_type": "code",
   "execution_count": 9,
   "metadata": {},
   "outputs": [
    {
     "data": {
      "image/png": "[encoded data removed]",
      "text/plain": [
       "<Figure size 432x288 with 1 Axes>"
      ]
     },
     "metadata": {},
     "output_type": "display_data"
    }
   ],
   "source": [
    "train = get_data(train_path)\n",
    "train.describe_plot()"
   ]
  },
  {
   "cell_type": "code",
   "execution_count": 10,
   "metadata": {},
   "outputs": [
    {
     "name": "stdout",
     "output_type": "stream",
     "text": [
      "1    4684\n",
      "7    4401\n",
      "3    4351\n",
      "9    4188\n",
      "2    4177\n",
      "6    4137\n",
      "0    4132\n",
      "4    4072\n",
      "8    4063\n",
      "5    3795\n",
      "Name: label, dtype: int64\n"
     ]
    }
   ],
   "source": [
    "train.describe_num()"
   ]
  },
  {
   "cell_type": "code",
   "execution_count": 12,
   "metadata": {},
   "outputs": [
    {
     "name": "stdout",
     "output_type": "stream",
     "text": [
      "False\n"
     ]
    }
   ],
   "source": [
    "train.check_missing_val(train.feature)"
   ]
  },
  {
   "cell_type": "code",
   "execution_count": 13,
   "metadata": {},
   "outputs": [
    {
     "name": "stdout",
     "output_type": "stream",
     "text": [
      "False\n"
     ]
    }
   ],
   "source": [
    "train.check_missing_val(train.label)"
   ]
  },
  {
   "cell_type": "code",
   "execution_count": null,
   "metadata": {},
   "outputs": [],
   "source": []
  }
 ],
 "metadata": {
  "kernelspec": {
   "display_name": "Python 3",
   "language": "python",
   "name": "python3"
  },
  "language_info": {
   "codemirror_mode": {
    "name": "ipython",
    "version": 3
   },
   "file_extension": ".py",
   "mimetype": "text/x-python",
   "name": "python",
   "nbconvert_exporter": "python",
   "pygments_lexer": "ipython3",
   "version": "3.7.2"
  }
 },
 "nbformat": 4,
 "nbformat_minor": 2
}
